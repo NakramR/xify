{
 "cells": [
  {
   "cell_type": "code",
   "execution_count": 1,
   "metadata": {
    "ExecuteTime": {
     "end_time": "2020-05-21T13:28:25.072480Z",
     "start_time": "2020-05-21T13:28:24.235479Z"
    }
   },
   "outputs": [],
   "source": [
    "import astroid"
   ]
  },
  {
   "cell_type": "markdown",
   "metadata": {},
   "source": [
    "# Xification code (inspired by xkcd)"
   ]
  },
  {
   "cell_type": "markdown",
   "metadata": {},
   "source": [
    "<IMG SRC=https://imgs.xkcd.com/comics/x.png>"
   ]
  },
  {
   "cell_type": "markdown",
   "metadata": {},
   "source": [
    "pass code as a string to the xifyCode and it will replace all the variables with Xes of various shapes and forms.\n",
    "While not technically fonts, the net result is substantially similar"
   ]
  },
  {
   "cell_type": "code",
   "execution_count": 2,
   "metadata": {
    "ExecuteTime": {
     "end_time": "2020-05-21T13:28:25.110478Z",
     "start_time": "2020-05-21T13:28:25.093480Z"
    }
   },
   "outputs": [],
   "source": [
    "def xifyCode(code):\n",
    "    x = astroid.extract_node(code)\n",
    "\n",
    "    if type(x) is list:\n",
    "        topParent = x[0]\n",
    "    else:\n",
    "        topParent = x\n",
    "    while topParent.parent is not None:\n",
    "        topParent = topParent.parent\n",
    "        \n",
    "    findAndRenameVariables(topParent)\n",
    "    return topParent.as_string()\n",
    "\n",
    "def numToExes(n):\n",
    "    # convert to base X (X being however many Xes we have)\n",
    "    #Xes taken from various codepages\n",
    "\n",
    "    xes = 'x', '\\u03c7', '\\uA4EB', '\\u16E4', '\\u2D4B', '\\u2D5D', '\\u157D', '\\uA609']\n",
    "    b = len(xes)\n",
    "    if n == 0:\n",
    "        digits = [0]\n",
    "    else:\n",
    "        digits = []\n",
    "    while n:\n",
    "        digits.append(int(n % b))\n",
    "        n //= b\n",
    "        \n",
    "    ret = ''.join([xes[i] for i in digits[::-1]])\n",
    "    return ret\n",
    "\n",
    "def variableShouldKeepItsName(n):\n",
    "    # suboptimal way of testing for functionhood, but heh\n",
    "    if n == 'astroid':\n",
    "        return True\n",
    "    try:\n",
    "        x = eval(n)\n",
    "#         if type(x).__name__ in ['function', 'builtin_function_or_method']:\n",
    "        if type(x).__name__ in ['type', 'builtin_function_or_method']:\n",
    "            return True\n",
    "    except:\n",
    "        pass\n",
    "    return False\n",
    "\n",
    "def findAndRenameVariables(curNode, alreadyExplored = {}):\n",
    "    for x in curNode.get_children():\n",
    "        if (type(x) in [\n",
    "            astroid.node_classes.Name,\n",
    "            astroid.node_classes.AssignName,\n",
    "            astroid.scoped_nodes.FunctionDef]):\n",
    "            \n",
    "            if x.name not in alreadyExplored:\n",
    "                if variableShouldKeepItsName(x.name):\n",
    "                    alreadyExplored[x.name] = x.name\n",
    "                else:\n",
    "                    alreadyExplored[x.name] = numToExes(len(alreadyExplored)) #+ '|' + x.name\n",
    "            x.name = alreadyExplored[x.name]\n",
    "            \n",
    "        findAndRenameVariables(x, alreadyExplored)"
   ]
  },
  {
   "cell_type": "markdown",
   "metadata": {},
   "source": [
    "As an example, let's feed the code of the xification function to itself, and it will replace all variables and function names with Xes"
   ]
  },
  {
   "cell_type": "code",
   "execution_count": 3,
   "metadata": {
    "ExecuteTime": {
     "end_time": "2020-05-21T13:28:25.567479Z",
     "start_time": "2020-05-21T13:28:25.563480Z"
    }
   },
   "outputs": [],
   "source": [
    "code = \"\"\"\n",
    "def xifyCode(code):\n",
    "    x = astroid.extract_node(code)\n",
    "\n",
    "    if type(x) is list:\n",
    "        topParent = x[0]\n",
    "    else:\n",
    "        topParent = x\n",
    "    while topParent.parent is not None:\n",
    "        topParent = topParent.parent\n",
    "        \n",
    "    findAndRenameVariables(topParent)\n",
    "    return topParent.as_string()\n",
    "\n",
    "def numToExes(n):\n",
    "    # convert to base X (X being however many Xes we have)\n",
    "    #Xes taken from various codepages\n",
    "\n",
    "    xes = [ 'x', '\\u03c7', '\\uA4EB', '\\u16E4', '\\u2D4B', '\\u2D5D', '\\u157D', '\\uA609']\n",
    "    b = len(xes)\n",
    "    if n == 0:\n",
    "        digits = [0]\n",
    "    else:\n",
    "        digits = []\n",
    "    while n:\n",
    "        digits.append(int(n % b))\n",
    "        n //= b\n",
    "        \n",
    "    ret = ''.join([xes[i] for i in digits[::-1]])\n",
    "    return ret\n",
    "\n",
    "def variableShouldKeepItsName(n):\n",
    "    # suboptimal way of testing for functionhood, but heh\n",
    "    if n == 'astroid':\n",
    "        return True\n",
    "    try:\n",
    "        x = eval(n)\n",
    "#         if type(x).__name__ in ['function', 'builtin_function_or_method']:\n",
    "        if type(x).__name__ in ['type', 'builtin_function_or_method']:\n",
    "            return True\n",
    "    except:\n",
    "        pass\n",
    "    return False\n",
    "\n",
    "def findAndRenameVariables(curNode, alreadyExplored = {}):\n",
    "    for x in curNode.get_children():\n",
    "        if (type(x) in [\n",
    "            astroid.node_classes.Name,\n",
    "            astroid.node_classes.AssignName,\n",
    "            astroid.scoped_nodes.FunctionDef]):\n",
    "            \n",
    "            if x.name not in alreadyExplored:\n",
    "                if variableShouldKeepItsName(x.name):\n",
    "                    alreadyExplored[x.name] = x.name\n",
    "                else:\n",
    "                    alreadyExplored[x.name] = numToExes(len(alreadyExplored)) #+ '|' + x.name\n",
    "            x.name = alreadyExplored[x.name]\n",
    "            \n",
    "        findAndRenameVariables(x, alreadyExplored)\n",
    "\"\"\""
   ]
  },
  {
   "cell_type": "code",
   "execution_count": 16,
   "metadata": {
    "ExecuteTime": {
     "end_time": "2020-05-21T14:09:43.243709Z",
     "start_time": "2020-05-21T14:09:43.233709Z"
    }
   },
   "outputs": [
    {
     "name": "stdout",
     "output_type": "stream",
     "text": [
      "\n",
      "def x(χ):\n",
      "    ꓫ = astroid.extract_node(χ)\n",
      "    if type(ꓫ) is list:\n",
      "        ᕽ = ꓫ[0]\n",
      "    else:\n",
      "        ᕽ = ꓫ\n",
      "    while ᕽ.parent is not None:\n",
      "        ᕽ = ᕽ.parent\n",
      "    ꘉ(ᕽ)\n",
      "    return ᕽ.as_string()\n",
      "\n",
      "def χx(χχ):\n",
      "    χꓫ = ['x', 'χ', 'ꓫ', 'ᛤ', 'ⵋ', 'ⵝ', 'ᕽ', 'ꘉ']\n",
      "    χᛤ = len(χꓫ)\n",
      "    if χχ == 0:\n",
      "        χⵝ = [0]\n",
      "    else:\n",
      "        χⵝ = []\n",
      "    while χχ:\n",
      "        χⵝ.append(int(χχ % χᛤ))\n",
      "        χχ //= χᛤ\n",
      "    χꘉ = ''.join([χꓫ[ꓫx] for ꓫx in χⵝ[::-1]])\n",
      "    return χꘉ\n",
      "\n",
      "def ꓫχ(χχ):\n",
      "    if χχ == 'astroid':\n",
      "        return True\n",
      "    try:\n",
      "        ꓫ = eval(χχ)\n",
      "        if type(ꓫ).__name__ in ['type', 'builtin_function_or_method']:\n",
      "            return True\n",
      "    except:\n",
      "        pass\n",
      "    return False\n",
      "\n",
      "def ꘉ(ꓫᛤ, ꓫⵋ={}):\n",
      "    for ꓫ in ꓫᛤ.get_children():\n",
      "        if type(ꓫ) in [astroid.node_classes.Name, astroid.node_classes.AssignName, astroid.scoped_nodes.FunctionDef]:\n",
      "            if ꓫ.name not in ꓫⵋ:\n",
      "                if ꓫχ(ꓫ.name):\n",
      "                    ꓫⵋ[ꓫ.name] = ꓫ.name\n",
      "                else:\n",
      "                    ꓫⵋ[ꓫ.name] = χx(len(ꓫⵋ))\n",
      "            ꓫ.name = ꓫⵋ[ꓫ.name]\n",
      "        ꘉ(ꓫ, ꓫⵋ)\n",
      "\n",
      "\n"
     ]
    }
   ],
   "source": [
    "code = xifyCode(code)\n",
    "print(code)"
   ]
  },
  {
   "cell_type": "markdown",
   "metadata": {},
   "source": [
    "The product of the xification code is still functional, as exemplified by calling it with its own code and producing itself :-)"
   ]
  },
  {
   "cell_type": "code",
   "execution_count": 17,
   "metadata": {
    "ExecuteTime": {
     "end_time": "2020-05-21T14:09:46.132710Z",
     "start_time": "2020-05-21T14:09:46.120710Z"
    }
   },
   "outputs": [],
   "source": [
    "\n",
    "def x(χ):\n",
    "    ꓫ = astroid.extract_node(χ)\n",
    "    if type(ꓫ) is list:\n",
    "        ᕽ = ꓫ[0]\n",
    "    else:\n",
    "        ᕽ = ꓫ\n",
    "    while ᕽ.parent is not None:\n",
    "        ᕽ = ᕽ.parent\n",
    "    ꘉ(ᕽ)\n",
    "    return ᕽ.as_string()\n",
    "\n",
    "def χx(χχ):\n",
    "    χꓫ = ['x', 'χ', 'ꓫ', 'ᛤ', 'ⵋ', 'ⵝ', 'ᕽ', 'ꘉ']\n",
    "    χᛤ = len(χꓫ)\n",
    "    if χχ == 0:\n",
    "        χⵝ = [0]\n",
    "    else:\n",
    "        χⵝ = []\n",
    "    while χχ:\n",
    "        χⵝ.append(int(χχ % χᛤ))\n",
    "        χχ //= χᛤ\n",
    "    χꘉ = ''.join([χꓫ[ꓫx] for ꓫx in χⵝ[::-1]])\n",
    "    return χꘉ\n",
    "\n",
    "def ꓫχ(χχ):\n",
    "    if χχ == 'astroid':\n",
    "        return True\n",
    "    try:\n",
    "        ꓫ = eval(χχ)\n",
    "        if type(ꓫ).__name__ in ['type', 'builtin_function_or_method']:\n",
    "            return True\n",
    "    except:\n",
    "        pass\n",
    "    return False\n",
    "\n",
    "def ꘉ(ꓫᛤ, ꓫⵋ={}):\n",
    "    for ꓫ in ꓫᛤ.get_children():\n",
    "        if type(ꓫ) in [astroid.node_classes.Name, astroid.node_classes.AssignName, astroid.scoped_nodes.FunctionDef]:\n",
    "            if ꓫ.name not in ꓫⵋ:\n",
    "                if ꓫχ(ꓫ.name):\n",
    "                    ꓫⵋ[ꓫ.name] = ꓫ.name\n",
    "                else:\n",
    "                    ꓫⵋ[ꓫ.name] = χx(len(ꓫⵋ))\n",
    "            ꓫ.name = ꓫⵋ[ꓫ.name]\n",
    "        ꘉ(ꓫ, ꓫⵋ)\n"
   ]
  },
  {
   "cell_type": "code",
   "execution_count": 18,
   "metadata": {
    "ExecuteTime": {
     "end_time": "2020-05-21T14:09:48.049710Z",
     "start_time": "2020-05-21T14:09:47.960710Z"
    }
   },
   "outputs": [
    {
     "name": "stdout",
     "output_type": "stream",
     "text": [
      "\n",
      "def x(χ):\n",
      "    ꓫ = astroid.extract_node(χ)\n",
      "    if type(ꓫ) is list:\n",
      "        ᕽ = ꓫ[0]\n",
      "    else:\n",
      "        ᕽ = ꓫ\n",
      "    while ᕽ.parent is not None:\n",
      "        ᕽ = ᕽ.parent\n",
      "    ꘉ(ᕽ)\n",
      "    return ᕽ.as_string()\n",
      "\n",
      "def χx(χχ):\n",
      "    χꓫ = ['x', 'χ', 'ꓫ', 'ᛤ', 'ⵋ', 'ⵝ', 'ᕽ', 'ꘉ']\n",
      "    χᛤ = len(χꓫ)\n",
      "    if χχ == 0:\n",
      "        χⵝ = [0]\n",
      "    else:\n",
      "        χⵝ = []\n",
      "    while χχ:\n",
      "        χⵝ.append(int(χχ % χᛤ))\n",
      "        χχ //= χᛤ\n",
      "    χꘉ = ''.join([χꓫ[ꓫx] for ꓫx in χⵝ[::-1]])\n",
      "    return χꘉ\n",
      "\n",
      "def ꓫχ(χχ):\n",
      "    if χχ == 'astroid':\n",
      "        return True\n",
      "    try:\n",
      "        ꓫ = eval(χχ)\n",
      "        if type(ꓫ).__name__ in ['type', 'builtin_function_or_method']:\n",
      "            return True\n",
      "    except:\n",
      "        pass\n",
      "    return False\n",
      "\n",
      "def ꘉ(ꓫᛤ, ꓫⵋ={}):\n",
      "    for ꓫ in ꓫᛤ.get_children():\n",
      "        if type(ꓫ) in [astroid.node_classes.Name, astroid.node_classes.AssignName, astroid.scoped_nodes.FunctionDef]:\n",
      "            if ꓫ.name not in ꓫⵋ:\n",
      "                if ꓫχ(ꓫ.name):\n",
      "                    ꓫⵋ[ꓫ.name] = ꓫ.name\n",
      "                else:\n",
      "                    ꓫⵋ[ꓫ.name] = χx(len(ꓫⵋ))\n",
      "            ꓫ.name = ꓫⵋ[ꓫ.name]\n",
      "        ꘉ(ꓫ, ꓫⵋ)\n",
      "\n",
      "\n"
     ]
    }
   ],
   "source": [
    "print(x(code))"
   ]
  },
  {
   "cell_type": "code",
   "execution_count": 19,
   "metadata": {
    "ExecuteTime": {
     "end_time": "2020-05-21T14:09:55.725710Z",
     "start_time": "2020-05-21T14:09:55.714711Z"
    }
   },
   "outputs": [
    {
     "data": {
      "text/plain": [
       "True"
      ]
     },
     "execution_count": 19,
     "metadata": {},
     "output_type": "execute_result"
    }
   ],
   "source": [
    "x(code) == code"
   ]
  },
  {
   "cell_type": "code",
   "execution_count": null,
   "metadata": {},
   "outputs": [],
   "source": []
  }
 ],
 "metadata": {
  "kernelspec": {
   "display_name": "Python 3.6.7 64-bit ('tensorflow': conda)",
   "language": "python",
   "name": "python36764bittensorflowconda28565139976c4443864cd35068b7ac4c"
  },
  "language_info": {
   "codemirror_mode": {
    "name": "ipython",
    "version": 3
   },
   "file_extension": ".py",
   "mimetype": "text/x-python",
   "name": "python",
   "nbconvert_exporter": "python",
   "pygments_lexer": "ipython3",
   "version": "3.6.7"
  },
  "toc": {
   "base_numbering": 1,
   "nav_menu": {},
   "number_sections": true,
   "sideBar": true,
   "skip_h1_title": false,
   "title_cell": "Table of Contents",
   "title_sidebar": "Contents",
   "toc_cell": false,
   "toc_position": {},
   "toc_section_display": true,
   "toc_window_display": false
  },
  "varInspector": {
   "cols": {
    "lenName": 16,
    "lenType": 16,
    "lenVar": 40
   },
   "kernels_config": {
    "python": {
     "delete_cmd_postfix": "",
     "delete_cmd_prefix": "del ",
     "library": "var_list.py",
     "varRefreshCmd": "print(var_dic_list())"
    },
    "r": {
     "delete_cmd_postfix": ") ",
     "delete_cmd_prefix": "rm(",
     "library": "var_list.r",
     "varRefreshCmd": "cat(var_dic_list()) "
    }
   },
   "types_to_exclude": [
    "module",
    "function",
    "builtin_function_or_method",
    "instance",
    "_Feature"
   ],
   "window_display": false
  }
 },
 "nbformat": 4,
 "nbformat_minor": 2
}
